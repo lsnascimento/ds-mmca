{
 "cells": [
  {
   "cell_type": "markdown",
   "metadata": {},
   "source": [
    "<span style=\"text-align: center; font-size: 2.5rem; display: block;\">FGV - Métodos Matriciais e Análises de Clusters</span>\n",
    "<span style=\"text-align:center; display: block; font-size: 2rem\">MBA Executivo em Business Analytics e Big Data</span>\n",
    "\n",
    "<span style=\"font-size: 1.5rem; display: block\">Professora</span>\n",
    "<span style=\"font-size: 1.2rem; color: #343434\">Laura de Oliveira F. Moraes</span>\n",
    "\n",
    "# Membros\n",
    "- Igor Freitas\n",
    "- Leonardo Nascimento\n",
    "\n",
    "# <span>Tabela de Conteúdos</span>\n",
    "\n",
    "- <a href=\"#1\" style=\"color: #343434\">1. Preparação dos dados</a>\n",
    "    - <a href=\"#11\" style=\"color: #343434\">1.1. Bibliotecas</a>\n",
    "    - <a href=\"#12\" style=\"color: #343434\">1.2. Carregamento dos dados</a>\n",
    "    - <a href=\"#13\" style=\"color: #343434\">1.3. Métodos</a>\n",
    "- <a href=\"#2\" style=\"color: #343434\">2. Análise Exploratória dos Dados</a>\n",
    "    - <a href=\"#21\" style=\"color: #343434\">2.1. Visualizando os tipos dos atributos</a>\n",
    "    - <a href=\"#22\" style=\"color: #343434\">2.2. Valores faltantes</a>\n",
    "    - <a href=\"#23\" style=\"color: #343434\">2.3. Selecionando atributos categóricos</a>\n",
    "    - <a href=\"#24\" style=\"color: #343434\">2.4. Selecionando atributos numéricos</a>\n",
    "- <a href=\"#3\" style=\"color: #343434\">3. Transformações</a>\n",
    "    - <a href=\"#31\" style=\"color: #343434\">3.1. Label Encoder / Dummies</a>\n",
    "    - <a href=\"#32\" style=\"color: #343434\">3.2. PCA</a>\n",
    "    - <a href=\"#33\" style=\"color: #343434\">3.3. Salvando o dataframe</a>\n",
    "- <a href=\"#4\" style=\"color: #343434\">4. Modelagem</a>\n",
    "    - <a href=\"#41\" style=\"color: #343434\">4.1. K-Means</a>\n",
    "- <a href=\"#5\" style=\"color: #343434\">5. Avaliação</a>\n",
    "\n",
    "<span style=\"font-size: 1.5rem; display: block\">Github:</span>\n",
    "<a href=\"https://github.com/lsnascimento/ds-mmca\" target=\"_blank\">https://github.com/lsnascimento/ds-mmca</a>"
   ]
  },
  {
   "cell_type": "markdown",
   "metadata": {},
   "source": [
    "# <a id=\"1\">1. Preparação dos dados</a>"
   ]
  },
  {
   "cell_type": "markdown",
   "metadata": {},
   "source": [
    "## <a id=\"11\">1.1. Bibliotecas</a>"
   ]
  },
  {
   "cell_type": "code",
   "execution_count": 89,
   "metadata": {},
   "outputs": [],
   "source": [
    "import pickle\n",
    "import datetime as dt\n",
    "import pandas as pd\n",
    "import numpy as np\n",
    "import warnings\n",
    "import seaborn as sns\n",
    "import matplotlib.pyplot as plt\n",
    "\n",
    "from sklearn.preprocessing import StandardScaler, LabelEncoder\n",
    "\n",
    "from sklearn.model_selection import train_test_split\n",
    "\n",
    "from sklearn.decomposition import PCA\n",
    "\n",
    "from sklearn.cluster import KMeans\n",
    "from sklearn.cluster import DBSCAN\n",
    "from sklearn.cluster import AgglomerativeClustering\n",
    "from sklearn.cluster import MeanShift\n",
    "\n",
    "from scipy.spatial.distance import cdist, pdist\n",
    "\n",
    "from scipy.cluster.hierarchy import dendrogram, linkage\n",
    "\n",
    "from sklearn.metrics import silhouette_score, silhouette_samples\n",
    "\n",
    "warnings.filterwarnings('ignore')"
   ]
  },
  {
   "cell_type": "markdown",
   "metadata": {},
   "source": [
    "## <a id=\"12\">1.2. Carregamento dos dados</a>"
   ]
  },
  {
   "cell_type": "code",
   "execution_count": 5,
   "metadata": {},
   "outputs": [],
   "source": [
    "# Dados categóricos\n",
    "whisky = \"https://www.dropbox.com/s/bf4sf8jdckcgwrz/scotch.csv?dl=1\"\n",
    "telco = \"https://www.dropbox.com/s/kh59jmg9rvo5hpc/telco_treino.csv?dl=1\"\n",
    "abalone = \"https://archive.ics.uci.edu/ml/machine-learning-databases/abalone/abalone.data\"\n",
    "sponge = \"https://archive.ics.uci.edu/ml/machine-learning-databases/sponge/sponge.data\"\n",
    "housing = \"https://www.dropbox.com/s/zdbdnnhui9tkj2q/housing_treino.csv?dl=1\"\n",
    "\n",
    "# Dados numéricos\n",
    "wine = \"https://www.dropbox.com/s/iya32vzp81jb8bv/wine_data.csv?dl=1\"\n",
    "movielens = \"https://www.dropbox.com/s/ucwh8f86hk2hm6k/ml-1m.csv?dl=1\""
   ]
  },
  {
   "cell_type": "code",
   "execution_count": 18,
   "metadata": {},
   "outputs": [],
   "source": [
    "df = pd.read_csv(sponge)"
   ]
  },
  {
   "cell_type": "code",
   "execution_count": 19,
   "metadata": {},
   "outputs": [
    {
     "name": "stdout",
     "output_type": "stream",
     "text": [
      "(75, 46)\n"
     ]
    },
    {
     "data": {
      "text/html": [
       "<div>\n",
       "<style scoped>\n",
       "    .dataframe tbody tr th:only-of-type {\n",
       "        vertical-align: middle;\n",
       "    }\n",
       "\n",
       "    .dataframe tbody tr th {\n",
       "        vertical-align: top;\n",
       "    }\n",
       "\n",
       "    .dataframe thead th {\n",
       "        text-align: right;\n",
       "    }\n",
       "</style>\n",
       "<table border=\"1\" class=\"dataframe\">\n",
       "  <thead>\n",
       "    <tr style=\"text-align: right;\">\n",
       "      <th></th>\n",
       "      <th>AAPTOS_AAPTOS</th>\n",
       "      <th>1_CAPA</th>\n",
       "      <th>SIN_CAPA_INTERNA_DEL_CORTEX</th>\n",
       "      <th>SI</th>\n",
       "      <th>NO</th>\n",
       "      <th>NO.1</th>\n",
       "      <th>NO.2</th>\n",
       "      <th>3</th>\n",
       "      <th>NO.3</th>\n",
       "      <th>SIN_TILOSTILOS_ADICIONALES</th>\n",
       "      <th>...</th>\n",
       "      <th>MASIVO_IRREGULAR</th>\n",
       "      <th>0</th>\n",
       "      <th>NO.12</th>\n",
       "      <th>OTROS</th>\n",
       "      <th>RUGOSA</th>\n",
       "      <th>RADIAL</th>\n",
       "      <th>NO.13</th>\n",
       "      <th>NO.14</th>\n",
       "      <th>NO.15</th>\n",
       "      <th>DURO</th>\n",
       "    </tr>\n",
       "  </thead>\n",
       "  <tbody>\n",
       "    <tr>\n",
       "      <td>0</td>\n",
       "      <td>ALECTONA_MILLARI</td>\n",
       "      <td>SIN_CORTEX</td>\n",
       "      <td>SIN_CAPA_INTERNA_DEL_CORTEX</td>\n",
       "      <td>NO</td>\n",
       "      <td>SIN_CORTEX</td>\n",
       "      <td>SIN_CORTEX</td>\n",
       "      <td>SIN_CORTEX</td>\n",
       "      <td>0</td>\n",
       "      <td>NO</td>\n",
       "      <td>SIN_TILOSTILOS_ADICIONALES</td>\n",
       "      <td>...</td>\n",
       "      <td>INCRUSTANTE</td>\n",
       "      <td>0</td>\n",
       "      <td>NO</td>\n",
       "      <td>?</td>\n",
       "      <td>LISA</td>\n",
       "      <td>CONFUSA</td>\n",
       "      <td>NO</td>\n",
       "      <td>SI</td>\n",
       "      <td>NO</td>\n",
       "      <td>DURO</td>\n",
       "    </tr>\n",
       "    <tr>\n",
       "      <td>1</td>\n",
       "      <td>CLIONA_CARTERI</td>\n",
       "      <td>SIN_CORTEX</td>\n",
       "      <td>SIN_CAPA_INTERNA_DEL_CORTEX</td>\n",
       "      <td>NO</td>\n",
       "      <td>SIN_CORTEX</td>\n",
       "      <td>SIN_CORTEX</td>\n",
       "      <td>SIN_CORTEX</td>\n",
       "      <td>0</td>\n",
       "      <td>NO</td>\n",
       "      <td>SIN_TILOSTILOS_ADICIONALES</td>\n",
       "      <td>...</td>\n",
       "      <td>INCRUSTANTE</td>\n",
       "      <td>1</td>\n",
       "      <td>SI</td>\n",
       "      <td>OTROS</td>\n",
       "      <td>LISA</td>\n",
       "      <td>CONFUSA</td>\n",
       "      <td>NO</td>\n",
       "      <td>SI</td>\n",
       "      <td>NO</td>\n",
       "      <td>DURO</td>\n",
       "    </tr>\n",
       "    <tr>\n",
       "      <td>2</td>\n",
       "      <td>CLIONA_CELATA</td>\n",
       "      <td>SIN_CORTEX</td>\n",
       "      <td>SIN_CAPA_INTERNA_DEL_CORTEX</td>\n",
       "      <td>NO</td>\n",
       "      <td>SIN_CORTEX</td>\n",
       "      <td>SIN_CORTEX</td>\n",
       "      <td>SIN_CORTEX</td>\n",
       "      <td>0</td>\n",
       "      <td>NO</td>\n",
       "      <td>SIN_TILOSTILOS_ADICIONALES</td>\n",
       "      <td>...</td>\n",
       "      <td>MASIVO_IRREGULAR</td>\n",
       "      <td>3</td>\n",
       "      <td>SI</td>\n",
       "      <td>OTROS</td>\n",
       "      <td>LISA</td>\n",
       "      <td>CONFUSA</td>\n",
       "      <td>NO</td>\n",
       "      <td>SI</td>\n",
       "      <td>NO</td>\n",
       "      <td>DURO</td>\n",
       "    </tr>\n",
       "  </tbody>\n",
       "</table>\n",
       "<p>3 rows × 46 columns</p>\n",
       "</div>"
      ],
      "text/plain": [
       "      AAPTOS_AAPTOS      1_CAPA  SIN_CAPA_INTERNA_DEL_CORTEX  SI          NO  \\\n",
       "0  ALECTONA_MILLARI  SIN_CORTEX  SIN_CAPA_INTERNA_DEL_CORTEX  NO  SIN_CORTEX   \n",
       "1    CLIONA_CARTERI  SIN_CORTEX  SIN_CAPA_INTERNA_DEL_CORTEX  NO  SIN_CORTEX   \n",
       "2     CLIONA_CELATA  SIN_CORTEX  SIN_CAPA_INTERNA_DEL_CORTEX  NO  SIN_CORTEX   \n",
       "\n",
       "         NO.1        NO.2  3 NO.3  SIN_TILOSTILOS_ADICIONALES  ...  \\\n",
       "0  SIN_CORTEX  SIN_CORTEX  0   NO  SIN_TILOSTILOS_ADICIONALES  ...   \n",
       "1  SIN_CORTEX  SIN_CORTEX  0   NO  SIN_TILOSTILOS_ADICIONALES  ...   \n",
       "2  SIN_CORTEX  SIN_CORTEX  0   NO  SIN_TILOSTILOS_ADICIONALES  ...   \n",
       "\n",
       "   MASIVO_IRREGULAR  0 NO.12  OTROS RUGOSA   RADIAL NO.13 NO.14 NO.15  DURO  \n",
       "0       INCRUSTANTE  0    NO      ?   LISA  CONFUSA    NO    SI    NO  DURO  \n",
       "1       INCRUSTANTE  1    SI  OTROS   LISA  CONFUSA    NO    SI    NO  DURO  \n",
       "2  MASIVO_IRREGULAR  3    SI  OTROS   LISA  CONFUSA    NO    SI    NO  DURO  \n",
       "\n",
       "[3 rows x 46 columns]"
      ]
     },
     "execution_count": 19,
     "metadata": {},
     "output_type": "execute_result"
    }
   ],
   "source": [
    "print(df.shape)\n",
    "\n",
    "df.head(3)"
   ]
  },
  {
   "cell_type": "markdown",
   "metadata": {},
   "source": [
    "## <a id=\"13\">1.3. Métodos</a>"
   ]
  },
  {
   "cell_type": "code",
   "execution_count": 98,
   "metadata": {},
   "outputs": [
    {
     "data": {
      "text/plain": [
       "'/home/leonardo/Notebooks/mmac'"
      ]
     },
     "execution_count": 98,
     "metadata": {},
     "output_type": "execute_result"
    }
   ],
   "source": [
    "import os\n",
    "\n",
    "os.getcwd()"
   ]
  },
  {
   "cell_type": "code",
   "execution_count": 100,
   "metadata": {},
   "outputs": [],
   "source": [
    "def save(obj, name):\n",
    "    _name = '%s_%s' % (name, dt.datetime.now().strftime(\"%Y-%m-%d_%H-%M-%S\"))\n",
    "    _path = os.path.join(os.getcwd(), 'backup')\n",
    "    \n",
    "    try:\n",
    "        with open('{}/{}'.format(_path, _name), 'wb') as _f:\n",
    "            pickle.dump(obj, _f)\n",
    "        \n",
    "        print('Objeto {!r} salvo com sucesso'.format(_name))\n",
    "    except:\n",
    "        print('Erro ao tentar salvar o objeto {!r}'.format(_name))"
   ]
  },
  {
   "cell_type": "code",
   "execution_count": 22,
   "metadata": {},
   "outputs": [],
   "source": [
    "def load(file):\n",
    "    try:\n",
    "        with open(file, 'rb') as _f:\n",
    "            return pickle.load(_f)\n",
    "    except:\n",
    "        print('Falha ao tentar carregar o objeto {!r}'.format(file))"
   ]
  },
  {
   "cell_type": "code",
   "execution_count": 73,
   "metadata": {},
   "outputs": [],
   "source": [
    "def pca_ratio_plot(data, n, perc=False):\n",
    "    cols = []\n",
    "\n",
    "    for i in np.arange(1, n + 1):\n",
    "        cols.append(f'{i}')\n",
    "\n",
    "    # Gráfico\n",
    "\n",
    "    width = 0.8\n",
    "\n",
    "    x = np.arange(data.shape[0])\n",
    "\n",
    "    fig, ax = plt.subplots(figsize=(24, 12))\n",
    "\n",
    "    p1 = ax.bar(x, data, width)\n",
    "    p2 = ax.plot(x, data, ':r')\n",
    "\n",
    "    ax.set_title('PCA Explained Variance Ratio (%)', fontsize=18)\n",
    "\n",
    "    ax.set_xticks(x)\n",
    "    ax.set_xticklabels(cols)\n",
    "    \n",
    "    ax.set_xlabel('Principal Components')\n",
    "    ax.set_ylabel('Percentage')\n",
    "\n",
    "    autolabel(p1, perc, ax)\n",
    "\n",
    "    plt.show()"
   ]
  },
  {
   "cell_type": "code",
   "execution_count": 24,
   "metadata": {},
   "outputs": [],
   "source": [
    "def autolabel(charts, perc=False, ax=None):\n",
    "    for c in charts:\n",
    "        height = c.get_height()\n",
    "        val = '{:.2f}'.format(height) if not perc else '{:.2f}%'.format(height * 100)\n",
    "        \n",
    "        ax.annotate(\n",
    "            val,\n",
    "            xy=(c.get_x() + c.get_width() / 2, height),\n",
    "            xytext=(0, 3),\n",
    "            textcoords='offset points',\n",
    "            ha='center',\n",
    "            va='bottom'\n",
    "        )"
   ]
  },
  {
   "cell_type": "markdown",
   "metadata": {},
   "source": [
    "# <a id=\"2\">2. Análise Exploratória dos Dados</a>"
   ]
  },
  {
   "cell_type": "markdown",
   "metadata": {},
   "source": [
    "## <a id=\"21\">2.1. Visualizando os tipos dos atributos</a>"
   ]
  },
  {
   "cell_type": "code",
   "execution_count": 26,
   "metadata": {},
   "outputs": [
    {
     "name": "stdout",
     "output_type": "stream",
     "text": [
      "<class 'pandas.core.frame.DataFrame'>\n",
      "RangeIndex: 75 entries, 0 to 74\n",
      "Data columns (total 46 columns):\n",
      "AAPTOS_AAPTOS                        75 non-null object\n",
      "1_CAPA                               75 non-null object\n",
      "SIN_CAPA_INTERNA_DEL_CORTEX          75 non-null object\n",
      "SI                                   75 non-null object\n",
      "NO                                   75 non-null object\n",
      "NO.1                                 75 non-null object\n",
      "NO.2                                 75 non-null object\n",
      "3                                    75 non-null int64\n",
      "NO.3                                 75 non-null object\n",
      "SIN_TILOSTILOS_ADICIONALES           75 non-null object\n",
      "1_TIPO                               75 non-null object\n",
      "NO.4                                 75 non-null object\n",
      "NO.5                                 75 non-null object\n",
      "NO.6                                 75 non-null object\n",
      "NO.7                                 75 non-null object\n",
      "SI.1                                 75 non-null object\n",
      "NO.8                                 75 non-null object\n",
      "NO.9                                 75 non-null object\n",
      "SIN_ESPICULA_PRINCIPAL_ESTILO        75 non-null object\n",
      "SIN_ESPICULA_PRINCIPAL_TILOSTILO_    75 non-null object\n",
      "SIN_TILOSTILOS                       75 non-null object\n",
      "EMPALIZADA                           75 non-null object\n",
      "SUBESFERICA_ALARGADA_OVOIDE          75 non-null object\n",
      "RECTA_FUSIFORME                      75 non-null object\n",
      "ESTILO                               75 non-null object\n",
      "SIN_EXOSTILOS                        75 non-null object\n",
      "SIN_MEGASCLERA_INTERMEDIARIA         75 non-null object\n",
      "SIN_MEGASCLERA_INTERMEDIARIA.1       75 non-null object\n",
      "3.1                                  75 non-null int64\n",
      "NO.10                                75 non-null object\n",
      "SIN_MICROSCLERAS                     75 non-null object\n",
      "NO.11                                75 non-null object\n",
      "SIN_ESFERASTER                       75 non-null object\n",
      "SIN_ASTER                            75 non-null object\n",
      "SIN_DIPLASTERES                      75 non-null object\n",
      "SIN_ESFERASTER.1                     75 non-null object\n",
      "MASIVO_IRREGULAR                     75 non-null object\n",
      "0                                    75 non-null int64\n",
      "NO.12                                75 non-null object\n",
      "OTROS                                75 non-null object\n",
      "RUGOSA                               75 non-null object\n",
      "RADIAL                               75 non-null object\n",
      "NO.13                                75 non-null object\n",
      "NO.14                                75 non-null object\n",
      "NO.15                                75 non-null object\n",
      "DURO                                 75 non-null object\n",
      "dtypes: int64(3), object(43)\n",
      "memory usage: 27.1+ KB\n"
     ]
    }
   ],
   "source": [
    "df.info()"
   ]
  },
  {
   "cell_type": "markdown",
   "metadata": {},
   "source": [
    "## <a id=\"22\">2.2. Valores faltantes</a>"
   ]
  },
  {
   "cell_type": "code",
   "execution_count": 27,
   "metadata": {},
   "outputs": [
    {
     "data": {
      "text/plain": [
       "AAPTOS_AAPTOS                        0\n",
       "1_CAPA                               0\n",
       "SIN_CAPA_INTERNA_DEL_CORTEX          0\n",
       "SI                                   0\n",
       "NO                                   0\n",
       "NO.1                                 0\n",
       "NO.2                                 0\n",
       "3                                    0\n",
       "NO.3                                 0\n",
       "SIN_TILOSTILOS_ADICIONALES           0\n",
       "1_TIPO                               0\n",
       "NO.4                                 0\n",
       "NO.5                                 0\n",
       "NO.6                                 0\n",
       "NO.7                                 0\n",
       "SI.1                                 0\n",
       "NO.8                                 0\n",
       "NO.9                                 0\n",
       "SIN_ESPICULA_PRINCIPAL_ESTILO        0\n",
       "SIN_ESPICULA_PRINCIPAL_TILOSTILO_    0\n",
       "SIN_TILOSTILOS                       0\n",
       "EMPALIZADA                           0\n",
       "SUBESFERICA_ALARGADA_OVOIDE          0\n",
       "RECTA_FUSIFORME                      0\n",
       "ESTILO                               0\n",
       "SIN_EXOSTILOS                        0\n",
       "SIN_MEGASCLERA_INTERMEDIARIA         0\n",
       "SIN_MEGASCLERA_INTERMEDIARIA.1       0\n",
       "3.1                                  0\n",
       "NO.10                                0\n",
       "SIN_MICROSCLERAS                     0\n",
       "NO.11                                0\n",
       "SIN_ESFERASTER                       0\n",
       "SIN_ASTER                            0\n",
       "SIN_DIPLASTERES                      0\n",
       "SIN_ESFERASTER.1                     0\n",
       "MASIVO_IRREGULAR                     0\n",
       "0                                    0\n",
       "NO.12                                0\n",
       "OTROS                                0\n",
       "RUGOSA                               0\n",
       "RADIAL                               0\n",
       "NO.13                                0\n",
       "NO.14                                0\n",
       "NO.15                                0\n",
       "DURO                                 0\n",
       "dtype: int64"
      ]
     },
     "execution_count": 27,
     "metadata": {},
     "output_type": "execute_result"
    }
   ],
   "source": [
    "df.isnull().sum()"
   ]
  },
  {
   "cell_type": "markdown",
   "metadata": {},
   "source": [
    "**Análise:**\n",
    "- O dataset não possui nenhum valor faltante"
   ]
  },
  {
   "cell_type": "markdown",
   "metadata": {},
   "source": [
    "## <a id=\"23\">2.3. Selecionando atributos categóricos</a>"
   ]
  },
  {
   "cell_type": "code",
   "execution_count": 28,
   "metadata": {},
   "outputs": [],
   "source": [
    "feat_cat = df.select_dtypes(include=np.object)"
   ]
  },
  {
   "cell_type": "code",
   "execution_count": 31,
   "metadata": {},
   "outputs": [
    {
     "name": "stdout",
     "output_type": "stream",
     "text": [
      "43 colunas de 46 são categóricas\n"
     ]
    }
   ],
   "source": [
    "print('{} colunas de {} são categóricas'.format(len(feat_cat.columns), df.shape[1]))"
   ]
  },
  {
   "cell_type": "code",
   "execution_count": 33,
   "metadata": {},
   "outputs": [
    {
     "data": {
      "text/html": [
       "<div>\n",
       "<style scoped>\n",
       "    .dataframe tbody tr th:only-of-type {\n",
       "        vertical-align: middle;\n",
       "    }\n",
       "\n",
       "    .dataframe tbody tr th {\n",
       "        vertical-align: top;\n",
       "    }\n",
       "\n",
       "    .dataframe thead th {\n",
       "        text-align: right;\n",
       "    }\n",
       "</style>\n",
       "<table border=\"1\" class=\"dataframe\">\n",
       "  <thead>\n",
       "    <tr style=\"text-align: right;\">\n",
       "      <th></th>\n",
       "      <th>count</th>\n",
       "      <th>unique</th>\n",
       "      <th>top</th>\n",
       "      <th>freq</th>\n",
       "    </tr>\n",
       "  </thead>\n",
       "  <tbody>\n",
       "    <tr>\n",
       "      <td>AAPTOS_AAPTOS</td>\n",
       "      <td>75</td>\n",
       "      <td>75</td>\n",
       "      <td>SPHAEROTYLUS_CAPITATUS</td>\n",
       "      <td>1</td>\n",
       "    </tr>\n",
       "    <tr>\n",
       "      <td>1_CAPA</td>\n",
       "      <td>75</td>\n",
       "      <td>4</td>\n",
       "      <td>SIN_CORTEX</td>\n",
       "      <td>33</td>\n",
       "    </tr>\n",
       "    <tr>\n",
       "      <td>SIN_CAPA_INTERNA_DEL_CORTEX</td>\n",
       "      <td>75</td>\n",
       "      <td>6</td>\n",
       "      <td>SIN_CAPA_INTERNA_DEL_CORTEX</td>\n",
       "      <td>45</td>\n",
       "    </tr>\n",
       "    <tr>\n",
       "      <td>SI</td>\n",
       "      <td>75</td>\n",
       "      <td>2</td>\n",
       "      <td>SI</td>\n",
       "      <td>42</td>\n",
       "    </tr>\n",
       "    <tr>\n",
       "      <td>NO</td>\n",
       "      <td>75</td>\n",
       "      <td>3</td>\n",
       "      <td>NO</td>\n",
       "      <td>37</td>\n",
       "    </tr>\n",
       "    <tr>\n",
       "      <td>NO.1</td>\n",
       "      <td>75</td>\n",
       "      <td>3</td>\n",
       "      <td>NO</td>\n",
       "      <td>41</td>\n",
       "    </tr>\n",
       "    <tr>\n",
       "      <td>NO.2</td>\n",
       "      <td>75</td>\n",
       "      <td>3</td>\n",
       "      <td>NO</td>\n",
       "      <td>41</td>\n",
       "    </tr>\n",
       "    <tr>\n",
       "      <td>NO.3</td>\n",
       "      <td>75</td>\n",
       "      <td>2</td>\n",
       "      <td>NO</td>\n",
       "      <td>73</td>\n",
       "    </tr>\n",
       "    <tr>\n",
       "      <td>SIN_TILOSTILOS_ADICIONALES</td>\n",
       "      <td>75</td>\n",
       "      <td>5</td>\n",
       "      <td>SIN_TILOSTILOS_ADICIONALES</td>\n",
       "      <td>43</td>\n",
       "    </tr>\n",
       "    <tr>\n",
       "      <td>1_TIPO</td>\n",
       "      <td>75</td>\n",
       "      <td>4</td>\n",
       "      <td>3_TIPOS</td>\n",
       "      <td>32</td>\n",
       "    </tr>\n",
       "    <tr>\n",
       "      <td>NO.4</td>\n",
       "      <td>75</td>\n",
       "      <td>2</td>\n",
       "      <td>NO</td>\n",
       "      <td>74</td>\n",
       "    </tr>\n",
       "    <tr>\n",
       "      <td>NO.5</td>\n",
       "      <td>75</td>\n",
       "      <td>2</td>\n",
       "      <td>NO</td>\n",
       "      <td>65</td>\n",
       "    </tr>\n",
       "    <tr>\n",
       "      <td>NO.6</td>\n",
       "      <td>75</td>\n",
       "      <td>2</td>\n",
       "      <td>NO</td>\n",
       "      <td>74</td>\n",
       "    </tr>\n",
       "    <tr>\n",
       "      <td>NO.7</td>\n",
       "      <td>75</td>\n",
       "      <td>2</td>\n",
       "      <td>NO</td>\n",
       "      <td>66</td>\n",
       "    </tr>\n",
       "    <tr>\n",
       "      <td>SI.1</td>\n",
       "      <td>75</td>\n",
       "      <td>2</td>\n",
       "      <td>NO</td>\n",
       "      <td>69</td>\n",
       "    </tr>\n",
       "    <tr>\n",
       "      <td>NO.8</td>\n",
       "      <td>75</td>\n",
       "      <td>2</td>\n",
       "      <td>NO</td>\n",
       "      <td>68</td>\n",
       "    </tr>\n",
       "    <tr>\n",
       "      <td>NO.9</td>\n",
       "      <td>75</td>\n",
       "      <td>2</td>\n",
       "      <td>SI</td>\n",
       "      <td>52</td>\n",
       "    </tr>\n",
       "    <tr>\n",
       "      <td>SIN_ESPICULA_PRINCIPAL_ESTILO</td>\n",
       "      <td>75</td>\n",
       "      <td>4</td>\n",
       "      <td>SIN_ESPICULA_PRINCIPAL_ESTILO</td>\n",
       "      <td>55</td>\n",
       "    </tr>\n",
       "    <tr>\n",
       "      <td>SIN_ESPICULA_PRINCIPAL_TILOSTILO_</td>\n",
       "      <td>75</td>\n",
       "      <td>4</td>\n",
       "      <td>NORMAL</td>\n",
       "      <td>36</td>\n",
       "    </tr>\n",
       "    <tr>\n",
       "      <td>SIN_TILOSTILOS</td>\n",
       "      <td>75</td>\n",
       "      <td>4</td>\n",
       "      <td>SUBESFERICA_ALARGADA_OVOIDE</td>\n",
       "      <td>52</td>\n",
       "    </tr>\n",
       "    <tr>\n",
       "      <td>EMPALIZADA</td>\n",
       "      <td>75</td>\n",
       "      <td>4</td>\n",
       "      <td>EMPALIZADA</td>\n",
       "      <td>38</td>\n",
       "    </tr>\n",
       "    <tr>\n",
       "      <td>SUBESFERICA_ALARGADA_OVOIDE</td>\n",
       "      <td>75</td>\n",
       "      <td>3</td>\n",
       "      <td>SUBESFERICA_ALARGADA_OVOIDE</td>\n",
       "      <td>37</td>\n",
       "    </tr>\n",
       "    <tr>\n",
       "      <td>RECTA_FUSIFORME</td>\n",
       "      <td>75</td>\n",
       "      <td>4</td>\n",
       "      <td>SIN_MEGASCLERA_ECTOSOMICA</td>\n",
       "      <td>32</td>\n",
       "    </tr>\n",
       "    <tr>\n",
       "      <td>ESTILO</td>\n",
       "      <td>75</td>\n",
       "      <td>4</td>\n",
       "      <td>TILOSTILO</td>\n",
       "      <td>38</td>\n",
       "    </tr>\n",
       "    <tr>\n",
       "      <td>SIN_EXOSTILOS</td>\n",
       "      <td>75</td>\n",
       "      <td>6</td>\n",
       "      <td>SIN_EXOSTILOS</td>\n",
       "      <td>68</td>\n",
       "    </tr>\n",
       "    <tr>\n",
       "      <td>SIN_MEGASCLERA_INTERMEDIARIA</td>\n",
       "      <td>75</td>\n",
       "      <td>4</td>\n",
       "      <td>SIN_MEGASCLERA_INTERMEDIARIA</td>\n",
       "      <td>48</td>\n",
       "    </tr>\n",
       "    <tr>\n",
       "      <td>SIN_MEGASCLERA_INTERMEDIARIA.1</td>\n",
       "      <td>75</td>\n",
       "      <td>4</td>\n",
       "      <td>SIN_MEGASCLERA_INTERMEDIARIA</td>\n",
       "      <td>48</td>\n",
       "    </tr>\n",
       "    <tr>\n",
       "      <td>NO.10</td>\n",
       "      <td>75</td>\n",
       "      <td>2</td>\n",
       "      <td>NO</td>\n",
       "      <td>53</td>\n",
       "    </tr>\n",
       "    <tr>\n",
       "      <td>SIN_MICROSCLERAS</td>\n",
       "      <td>75</td>\n",
       "      <td>5</td>\n",
       "      <td>SIN_MICROSCLERAS</td>\n",
       "      <td>53</td>\n",
       "    </tr>\n",
       "    <tr>\n",
       "      <td>NO.11</td>\n",
       "      <td>75</td>\n",
       "      <td>2</td>\n",
       "      <td>NO</td>\n",
       "      <td>59</td>\n",
       "    </tr>\n",
       "    <tr>\n",
       "      <td>SIN_ESFERASTER</td>\n",
       "      <td>75</td>\n",
       "      <td>6</td>\n",
       "      <td>SIN_ESFERASTER</td>\n",
       "      <td>69</td>\n",
       "    </tr>\n",
       "    <tr>\n",
       "      <td>SIN_ASTER</td>\n",
       "      <td>75</td>\n",
       "      <td>7</td>\n",
       "      <td>SIN_ASTER</td>\n",
       "      <td>59</td>\n",
       "    </tr>\n",
       "    <tr>\n",
       "      <td>SIN_DIPLASTERES</td>\n",
       "      <td>75</td>\n",
       "      <td>3</td>\n",
       "      <td>SIN_DIPLASTERES</td>\n",
       "      <td>73</td>\n",
       "    </tr>\n",
       "    <tr>\n",
       "      <td>SIN_ESFERASTER.1</td>\n",
       "      <td>75</td>\n",
       "      <td>3</td>\n",
       "      <td>SIN_ESFERASTER</td>\n",
       "      <td>69</td>\n",
       "    </tr>\n",
       "    <tr>\n",
       "      <td>MASIVO_IRREGULAR</td>\n",
       "      <td>75</td>\n",
       "      <td>9</td>\n",
       "      <td>INCRUSTANTE</td>\n",
       "      <td>20</td>\n",
       "    </tr>\n",
       "    <tr>\n",
       "      <td>NO.12</td>\n",
       "      <td>75</td>\n",
       "      <td>2</td>\n",
       "      <td>NO</td>\n",
       "      <td>40</td>\n",
       "    </tr>\n",
       "    <tr>\n",
       "      <td>OTROS</td>\n",
       "      <td>75</td>\n",
       "      <td>4</td>\n",
       "      <td>OTROS</td>\n",
       "      <td>35</td>\n",
       "    </tr>\n",
       "    <tr>\n",
       "      <td>RUGOSA</td>\n",
       "      <td>75</td>\n",
       "      <td>8</td>\n",
       "      <td>LISA</td>\n",
       "      <td>24</td>\n",
       "    </tr>\n",
       "    <tr>\n",
       "      <td>RADIAL</td>\n",
       "      <td>75</td>\n",
       "      <td>7</td>\n",
       "      <td>RADIAL</td>\n",
       "      <td>33</td>\n",
       "    </tr>\n",
       "    <tr>\n",
       "      <td>NO.13</td>\n",
       "      <td>75</td>\n",
       "      <td>2</td>\n",
       "      <td>NO</td>\n",
       "      <td>73</td>\n",
       "    </tr>\n",
       "    <tr>\n",
       "      <td>NO.14</td>\n",
       "      <td>75</td>\n",
       "      <td>2</td>\n",
       "      <td>NO</td>\n",
       "      <td>69</td>\n",
       "    </tr>\n",
       "    <tr>\n",
       "      <td>NO.15</td>\n",
       "      <td>75</td>\n",
       "      <td>2</td>\n",
       "      <td>NO</td>\n",
       "      <td>71</td>\n",
       "    </tr>\n",
       "    <tr>\n",
       "      <td>DURO</td>\n",
       "      <td>75</td>\n",
       "      <td>3</td>\n",
       "      <td>DURO</td>\n",
       "      <td>69</td>\n",
       "    </tr>\n",
       "  </tbody>\n",
       "</table>\n",
       "</div>"
      ],
      "text/plain": [
       "                                  count unique                            top  \\\n",
       "AAPTOS_AAPTOS                        75     75         SPHAEROTYLUS_CAPITATUS   \n",
       "1_CAPA                               75      4                     SIN_CORTEX   \n",
       "SIN_CAPA_INTERNA_DEL_CORTEX          75      6    SIN_CAPA_INTERNA_DEL_CORTEX   \n",
       "SI                                   75      2                             SI   \n",
       "NO                                   75      3                             NO   \n",
       "NO.1                                 75      3                             NO   \n",
       "NO.2                                 75      3                             NO   \n",
       "NO.3                                 75      2                             NO   \n",
       "SIN_TILOSTILOS_ADICIONALES           75      5     SIN_TILOSTILOS_ADICIONALES   \n",
       "1_TIPO                               75      4                        3_TIPOS   \n",
       "NO.4                                 75      2                             NO   \n",
       "NO.5                                 75      2                             NO   \n",
       "NO.6                                 75      2                             NO   \n",
       "NO.7                                 75      2                             NO   \n",
       "SI.1                                 75      2                             NO   \n",
       "NO.8                                 75      2                             NO   \n",
       "NO.9                                 75      2                             SI   \n",
       "SIN_ESPICULA_PRINCIPAL_ESTILO        75      4  SIN_ESPICULA_PRINCIPAL_ESTILO   \n",
       "SIN_ESPICULA_PRINCIPAL_TILOSTILO_    75      4                         NORMAL   \n",
       "SIN_TILOSTILOS                       75      4    SUBESFERICA_ALARGADA_OVOIDE   \n",
       "EMPALIZADA                           75      4                     EMPALIZADA   \n",
       "SUBESFERICA_ALARGADA_OVOIDE          75      3    SUBESFERICA_ALARGADA_OVOIDE   \n",
       "RECTA_FUSIFORME                      75      4      SIN_MEGASCLERA_ECTOSOMICA   \n",
       "ESTILO                               75      4                      TILOSTILO   \n",
       "SIN_EXOSTILOS                        75      6                  SIN_EXOSTILOS   \n",
       "SIN_MEGASCLERA_INTERMEDIARIA         75      4   SIN_MEGASCLERA_INTERMEDIARIA   \n",
       "SIN_MEGASCLERA_INTERMEDIARIA.1       75      4   SIN_MEGASCLERA_INTERMEDIARIA   \n",
       "NO.10                                75      2                             NO   \n",
       "SIN_MICROSCLERAS                     75      5               SIN_MICROSCLERAS   \n",
       "NO.11                                75      2                             NO   \n",
       "SIN_ESFERASTER                       75      6                 SIN_ESFERASTER   \n",
       "SIN_ASTER                            75      7                      SIN_ASTER   \n",
       "SIN_DIPLASTERES                      75      3                SIN_DIPLASTERES   \n",
       "SIN_ESFERASTER.1                     75      3                 SIN_ESFERASTER   \n",
       "MASIVO_IRREGULAR                     75      9                    INCRUSTANTE   \n",
       "NO.12                                75      2                             NO   \n",
       "OTROS                                75      4                          OTROS   \n",
       "RUGOSA                               75      8                           LISA   \n",
       "RADIAL                               75      7                         RADIAL   \n",
       "NO.13                                75      2                             NO   \n",
       "NO.14                                75      2                             NO   \n",
       "NO.15                                75      2                             NO   \n",
       "DURO                                 75      3                           DURO   \n",
       "\n",
       "                                  freq  \n",
       "AAPTOS_AAPTOS                        1  \n",
       "1_CAPA                              33  \n",
       "SIN_CAPA_INTERNA_DEL_CORTEX         45  \n",
       "SI                                  42  \n",
       "NO                                  37  \n",
       "NO.1                                41  \n",
       "NO.2                                41  \n",
       "NO.3                                73  \n",
       "SIN_TILOSTILOS_ADICIONALES          43  \n",
       "1_TIPO                              32  \n",
       "NO.4                                74  \n",
       "NO.5                                65  \n",
       "NO.6                                74  \n",
       "NO.7                                66  \n",
       "SI.1                                69  \n",
       "NO.8                                68  \n",
       "NO.9                                52  \n",
       "SIN_ESPICULA_PRINCIPAL_ESTILO       55  \n",
       "SIN_ESPICULA_PRINCIPAL_TILOSTILO_   36  \n",
       "SIN_TILOSTILOS                      52  \n",
       "EMPALIZADA                          38  \n",
       "SUBESFERICA_ALARGADA_OVOIDE         37  \n",
       "RECTA_FUSIFORME                     32  \n",
       "ESTILO                              38  \n",
       "SIN_EXOSTILOS                       68  \n",
       "SIN_MEGASCLERA_INTERMEDIARIA        48  \n",
       "SIN_MEGASCLERA_INTERMEDIARIA.1      48  \n",
       "NO.10                               53  \n",
       "SIN_MICROSCLERAS                    53  \n",
       "NO.11                               59  \n",
       "SIN_ESFERASTER                      69  \n",
       "SIN_ASTER                           59  \n",
       "SIN_DIPLASTERES                     73  \n",
       "SIN_ESFERASTER.1                    69  \n",
       "MASIVO_IRREGULAR                    20  \n",
       "NO.12                               40  \n",
       "OTROS                               35  \n",
       "RUGOSA                              24  \n",
       "RADIAL                              33  \n",
       "NO.13                               73  \n",
       "NO.14                               69  \n",
       "NO.15                               71  \n",
       "DURO                                69  "
      ]
     },
     "execution_count": 33,
     "metadata": {},
     "output_type": "execute_result"
    }
   ],
   "source": [
    "feat_cat.describe().T"
   ]
  },
  {
   "cell_type": "markdown",
   "metadata": {},
   "source": [
    "## <a id=\"24\">2.4. Selecionando atributos numéricos</a>"
   ]
  },
  {
   "cell_type": "code",
   "execution_count": 35,
   "metadata": {},
   "outputs": [],
   "source": [
    "feat_num = df.select_dtypes(exclude=np.object)"
   ]
  },
  {
   "cell_type": "code",
   "execution_count": 37,
   "metadata": {},
   "outputs": [
    {
     "name": "stdout",
     "output_type": "stream",
     "text": [
      "3 colunas de 46 são numéricas\n"
     ]
    }
   ],
   "source": [
    "print('{} colunas de {} são numéricas'.format(len(feat_num.columns), df.shape[1]))"
   ]
  },
  {
   "cell_type": "code",
   "execution_count": 38,
   "metadata": {},
   "outputs": [
    {
     "data": {
      "text/html": [
       "<div>\n",
       "<style scoped>\n",
       "    .dataframe tbody tr th:only-of-type {\n",
       "        vertical-align: middle;\n",
       "    }\n",
       "\n",
       "    .dataframe tbody tr th {\n",
       "        vertical-align: top;\n",
       "    }\n",
       "\n",
       "    .dataframe thead th {\n",
       "        text-align: right;\n",
       "    }\n",
       "</style>\n",
       "<table border=\"1\" class=\"dataframe\">\n",
       "  <thead>\n",
       "    <tr style=\"text-align: right;\">\n",
       "      <th></th>\n",
       "      <th>count</th>\n",
       "      <th>mean</th>\n",
       "      <th>std</th>\n",
       "      <th>min</th>\n",
       "      <th>25%</th>\n",
       "      <th>50%</th>\n",
       "      <th>75%</th>\n",
       "      <th>max</th>\n",
       "    </tr>\n",
       "  </thead>\n",
       "  <tbody>\n",
       "    <tr>\n",
       "      <td>3</td>\n",
       "      <td>75.0</td>\n",
       "      <td>1.560000</td>\n",
       "      <td>1.535525</td>\n",
       "      <td>0.0</td>\n",
       "      <td>0.0</td>\n",
       "      <td>2.0</td>\n",
       "      <td>3.0</td>\n",
       "      <td>4.0</td>\n",
       "    </tr>\n",
       "    <tr>\n",
       "      <td>3.1</td>\n",
       "      <td>75.0</td>\n",
       "      <td>2.226667</td>\n",
       "      <td>0.894024</td>\n",
       "      <td>0.0</td>\n",
       "      <td>1.5</td>\n",
       "      <td>3.0</td>\n",
       "      <td>3.0</td>\n",
       "      <td>3.0</td>\n",
       "    </tr>\n",
       "    <tr>\n",
       "      <td>0</td>\n",
       "      <td>75.0</td>\n",
       "      <td>1.000000</td>\n",
       "      <td>1.230249</td>\n",
       "      <td>0.0</td>\n",
       "      <td>0.0</td>\n",
       "      <td>0.0</td>\n",
       "      <td>2.0</td>\n",
       "      <td>4.0</td>\n",
       "    </tr>\n",
       "  </tbody>\n",
       "</table>\n",
       "</div>"
      ],
      "text/plain": [
       "     count      mean       std  min  25%  50%  75%  max\n",
       "3     75.0  1.560000  1.535525  0.0  0.0  2.0  3.0  4.0\n",
       "3.1   75.0  2.226667  0.894024  0.0  1.5  3.0  3.0  3.0\n",
       "0     75.0  1.000000  1.230249  0.0  0.0  0.0  2.0  4.0"
      ]
     },
     "execution_count": 38,
     "metadata": {},
     "output_type": "execute_result"
    }
   ],
   "source": [
    "feat_num.describe().T"
   ]
  },
  {
   "cell_type": "code",
   "execution_count": 45,
   "metadata": {},
   "outputs": [
    {
     "data": {
      "text/html": [
       "<div>\n",
       "<style scoped>\n",
       "    .dataframe tbody tr th:only-of-type {\n",
       "        vertical-align: middle;\n",
       "    }\n",
       "\n",
       "    .dataframe tbody tr th {\n",
       "        vertical-align: top;\n",
       "    }\n",
       "\n",
       "    .dataframe thead th {\n",
       "        text-align: right;\n",
       "    }\n",
       "</style>\n",
       "<table border=\"1\" class=\"dataframe\">\n",
       "  <thead>\n",
       "    <tr style=\"text-align: right;\">\n",
       "      <th></th>\n",
       "      <th>3</th>\n",
       "      <th>3.1</th>\n",
       "      <th>0</th>\n",
       "    </tr>\n",
       "  </thead>\n",
       "  <tbody>\n",
       "    <tr>\n",
       "      <td>0</td>\n",
       "      <td>0</td>\n",
       "      <td>1</td>\n",
       "      <td>0</td>\n",
       "    </tr>\n",
       "    <tr>\n",
       "      <td>1</td>\n",
       "      <td>0</td>\n",
       "      <td>1</td>\n",
       "      <td>1</td>\n",
       "    </tr>\n",
       "    <tr>\n",
       "      <td>2</td>\n",
       "      <td>0</td>\n",
       "      <td>1</td>\n",
       "      <td>3</td>\n",
       "    </tr>\n",
       "    <tr>\n",
       "      <td>3</td>\n",
       "      <td>0</td>\n",
       "      <td>0</td>\n",
       "      <td>0</td>\n",
       "    </tr>\n",
       "    <tr>\n",
       "      <td>4</td>\n",
       "      <td>0</td>\n",
       "      <td>0</td>\n",
       "      <td>1</td>\n",
       "    </tr>\n",
       "  </tbody>\n",
       "</table>\n",
       "</div>"
      ],
      "text/plain": [
       "   3  3.1  0\n",
       "0  0    1  0\n",
       "1  0    1  1\n",
       "2  0    1  3\n",
       "3  0    0  0\n",
       "4  0    0  1"
      ]
     },
     "execution_count": 45,
     "metadata": {},
     "output_type": "execute_result"
    }
   ],
   "source": [
    "feat_num.head()"
   ]
  },
  {
   "cell_type": "code",
   "execution_count": 46,
   "metadata": {},
   "outputs": [
    {
     "data": {
      "text/html": [
       "<div>\n",
       "<style scoped>\n",
       "    .dataframe tbody tr th:only-of-type {\n",
       "        vertical-align: middle;\n",
       "    }\n",
       "\n",
       "    .dataframe tbody tr th {\n",
       "        vertical-align: top;\n",
       "    }\n",
       "\n",
       "    .dataframe thead th {\n",
       "        text-align: right;\n",
       "    }\n",
       "</style>\n",
       "<table border=\"1\" class=\"dataframe\">\n",
       "  <thead>\n",
       "    <tr style=\"text-align: right;\">\n",
       "      <th></th>\n",
       "      <th>3</th>\n",
       "      <th>3.1</th>\n",
       "      <th>0</th>\n",
       "    </tr>\n",
       "  </thead>\n",
       "  <tbody>\n",
       "    <tr>\n",
       "      <td>70</td>\n",
       "      <td>4</td>\n",
       "      <td>3</td>\n",
       "      <td>2</td>\n",
       "    </tr>\n",
       "    <tr>\n",
       "      <td>71</td>\n",
       "      <td>3</td>\n",
       "      <td>3</td>\n",
       "      <td>2</td>\n",
       "    </tr>\n",
       "    <tr>\n",
       "      <td>72</td>\n",
       "      <td>3</td>\n",
       "      <td>2</td>\n",
       "      <td>0</td>\n",
       "    </tr>\n",
       "    <tr>\n",
       "      <td>73</td>\n",
       "      <td>3</td>\n",
       "      <td>1</td>\n",
       "      <td>2</td>\n",
       "    </tr>\n",
       "    <tr>\n",
       "      <td>74</td>\n",
       "      <td>2</td>\n",
       "      <td>1</td>\n",
       "      <td>2</td>\n",
       "    </tr>\n",
       "  </tbody>\n",
       "</table>\n",
       "</div>"
      ],
      "text/plain": [
       "    3  3.1  0\n",
       "70  4    3  2\n",
       "71  3    3  2\n",
       "72  3    2  0\n",
       "73  3    1  2\n",
       "74  2    1  2"
      ]
     },
     "execution_count": 46,
     "metadata": {},
     "output_type": "execute_result"
    }
   ],
   "source": [
    "feat_num.tail()"
   ]
  },
  {
   "cell_type": "markdown",
   "metadata": {},
   "source": [
    "**Análise:**\n",
    "- Como os valores numéricos estão entre 0 e no máximo 4, não será a aplicado a normalização desses dados, pois eles encontram-se na mesma ordem de grandeza que os demais."
   ]
  },
  {
   "cell_type": "markdown",
   "metadata": {},
   "source": [
    "# <a id=\"3\">3. Transformações</a>"
   ]
  },
  {
   "cell_type": "markdown",
   "metadata": {},
   "source": [
    "## <a id=\"31\">3.1. Label Encoder / Dummies</a>"
   ]
  },
  {
   "cell_type": "code",
   "execution_count": 57,
   "metadata": {},
   "outputs": [],
   "source": [
    "for i in feat_cat.columns:\n",
    "    if feat_cat[i].nunique() <= 10:\n",
    "        _encoder = LabelEncoder()\n",
    "        \n",
    "        df[i] = _encoder.fit_transform(feat_cat[i])\n",
    "    else:\n",
    "        df[i] = pd.get_dummies(feat_cat[i])"
   ]
  },
  {
   "cell_type": "markdown",
   "metadata": {},
   "source": [
    "**Análises:**\n",
    "- Os atributos que possuem em sua coluna valores únicos menor ou igual à 10 será aplicado o LabelEncoder, que converte os dados categóricos de 0 à n.\n",
    "- Já os atributos que possuem mais de 10 valores únicos em sua coluna, será aplicado o método get_dummies, onde converterá os dados categóricos em colunas e definirá os seus valores em 0 ou 1."
   ]
  },
  {
   "cell_type": "code",
   "execution_count": 58,
   "metadata": {},
   "outputs": [
    {
     "data": {
      "text/html": [
       "<div>\n",
       "<style scoped>\n",
       "    .dataframe tbody tr th:only-of-type {\n",
       "        vertical-align: middle;\n",
       "    }\n",
       "\n",
       "    .dataframe tbody tr th {\n",
       "        vertical-align: top;\n",
       "    }\n",
       "\n",
       "    .dataframe thead th {\n",
       "        text-align: right;\n",
       "    }\n",
       "</style>\n",
       "<table border=\"1\" class=\"dataframe\">\n",
       "  <thead>\n",
       "    <tr style=\"text-align: right;\">\n",
       "      <th></th>\n",
       "      <th>AAPTOS_AAPTOS</th>\n",
       "      <th>1_CAPA</th>\n",
       "      <th>SIN_CAPA_INTERNA_DEL_CORTEX</th>\n",
       "      <th>SI</th>\n",
       "      <th>NO</th>\n",
       "      <th>NO.1</th>\n",
       "      <th>NO.2</th>\n",
       "      <th>NO.3</th>\n",
       "      <th>SIN_TILOSTILOS_ADICIONALES</th>\n",
       "      <th>1_TIPO</th>\n",
       "      <th>...</th>\n",
       "      <th>SIN_ESFERASTER.1</th>\n",
       "      <th>MASIVO_IRREGULAR</th>\n",
       "      <th>NO.12</th>\n",
       "      <th>OTROS</th>\n",
       "      <th>RUGOSA</th>\n",
       "      <th>RADIAL</th>\n",
       "      <th>NO.13</th>\n",
       "      <th>NO.14</th>\n",
       "      <th>NO.15</th>\n",
       "      <th>DURO</th>\n",
       "    </tr>\n",
       "  </thead>\n",
       "  <tbody>\n",
       "    <tr>\n",
       "      <td>0</td>\n",
       "      <td>1</td>\n",
       "      <td>3</td>\n",
       "      <td>3</td>\n",
       "      <td>0</td>\n",
       "      <td>2</td>\n",
       "      <td>2</td>\n",
       "      <td>2</td>\n",
       "      <td>0</td>\n",
       "      <td>4</td>\n",
       "      <td>0</td>\n",
       "      <td>...</td>\n",
       "      <td>2</td>\n",
       "      <td>4</td>\n",
       "      <td>0</td>\n",
       "      <td>0</td>\n",
       "      <td>4</td>\n",
       "      <td>1</td>\n",
       "      <td>0</td>\n",
       "      <td>1</td>\n",
       "      <td>0</td>\n",
       "      <td>2</td>\n",
       "    </tr>\n",
       "    <tr>\n",
       "      <td>1</td>\n",
       "      <td>0</td>\n",
       "      <td>3</td>\n",
       "      <td>3</td>\n",
       "      <td>0</td>\n",
       "      <td>2</td>\n",
       "      <td>2</td>\n",
       "      <td>2</td>\n",
       "      <td>0</td>\n",
       "      <td>4</td>\n",
       "      <td>0</td>\n",
       "      <td>...</td>\n",
       "      <td>2</td>\n",
       "      <td>4</td>\n",
       "      <td>1</td>\n",
       "      <td>3</td>\n",
       "      <td>4</td>\n",
       "      <td>1</td>\n",
       "      <td>0</td>\n",
       "      <td>1</td>\n",
       "      <td>0</td>\n",
       "      <td>2</td>\n",
       "    </tr>\n",
       "    <tr>\n",
       "      <td>2</td>\n",
       "      <td>0</td>\n",
       "      <td>3</td>\n",
       "      <td>3</td>\n",
       "      <td>0</td>\n",
       "      <td>2</td>\n",
       "      <td>2</td>\n",
       "      <td>2</td>\n",
       "      <td>0</td>\n",
       "      <td>4</td>\n",
       "      <td>1</td>\n",
       "      <td>...</td>\n",
       "      <td>2</td>\n",
       "      <td>5</td>\n",
       "      <td>1</td>\n",
       "      <td>3</td>\n",
       "      <td>4</td>\n",
       "      <td>1</td>\n",
       "      <td>0</td>\n",
       "      <td>1</td>\n",
       "      <td>0</td>\n",
       "      <td>2</td>\n",
       "    </tr>\n",
       "    <tr>\n",
       "      <td>3</td>\n",
       "      <td>0</td>\n",
       "      <td>3</td>\n",
       "      <td>3</td>\n",
       "      <td>0</td>\n",
       "      <td>2</td>\n",
       "      <td>2</td>\n",
       "      <td>2</td>\n",
       "      <td>0</td>\n",
       "      <td>4</td>\n",
       "      <td>0</td>\n",
       "      <td>...</td>\n",
       "      <td>2</td>\n",
       "      <td>4</td>\n",
       "      <td>0</td>\n",
       "      <td>3</td>\n",
       "      <td>4</td>\n",
       "      <td>1</td>\n",
       "      <td>0</td>\n",
       "      <td>1</td>\n",
       "      <td>0</td>\n",
       "      <td>2</td>\n",
       "    </tr>\n",
       "    <tr>\n",
       "      <td>4</td>\n",
       "      <td>0</td>\n",
       "      <td>3</td>\n",
       "      <td>3</td>\n",
       "      <td>0</td>\n",
       "      <td>2</td>\n",
       "      <td>2</td>\n",
       "      <td>2</td>\n",
       "      <td>0</td>\n",
       "      <td>4</td>\n",
       "      <td>0</td>\n",
       "      <td>...</td>\n",
       "      <td>2</td>\n",
       "      <td>4</td>\n",
       "      <td>1</td>\n",
       "      <td>3</td>\n",
       "      <td>4</td>\n",
       "      <td>1</td>\n",
       "      <td>0</td>\n",
       "      <td>1</td>\n",
       "      <td>0</td>\n",
       "      <td>2</td>\n",
       "    </tr>\n",
       "  </tbody>\n",
       "</table>\n",
       "<p>5 rows × 43 columns</p>\n",
       "</div>"
      ],
      "text/plain": [
       "   AAPTOS_AAPTOS  1_CAPA  SIN_CAPA_INTERNA_DEL_CORTEX  SI  NO  NO.1  NO.2  \\\n",
       "0              1       3                            3   0   2     2     2   \n",
       "1              0       3                            3   0   2     2     2   \n",
       "2              0       3                            3   0   2     2     2   \n",
       "3              0       3                            3   0   2     2     2   \n",
       "4              0       3                            3   0   2     2     2   \n",
       "\n",
       "   NO.3  SIN_TILOSTILOS_ADICIONALES  1_TIPO  ...  SIN_ESFERASTER.1  \\\n",
       "0     0                           4       0  ...                 2   \n",
       "1     0                           4       0  ...                 2   \n",
       "2     0                           4       1  ...                 2   \n",
       "3     0                           4       0  ...                 2   \n",
       "4     0                           4       0  ...                 2   \n",
       "\n",
       "   MASIVO_IRREGULAR  NO.12  OTROS  RUGOSA  RADIAL  NO.13  NO.14  NO.15  DURO  \n",
       "0                 4      0      0       4       1      0      1      0     2  \n",
       "1                 4      1      3       4       1      0      1      0     2  \n",
       "2                 5      1      3       4       1      0      1      0     2  \n",
       "3                 4      0      3       4       1      0      1      0     2  \n",
       "4                 4      1      3       4       1      0      1      0     2  \n",
       "\n",
       "[5 rows x 43 columns]"
      ]
     },
     "execution_count": 58,
     "metadata": {},
     "output_type": "execute_result"
    }
   ],
   "source": [
    "feat_cat.head()"
   ]
  },
  {
   "cell_type": "markdown",
   "metadata": {},
   "source": [
    "## <a id=\"32\">3.2. PCA</a>"
   ]
  },
  {
   "cell_type": "code",
   "execution_count": 67,
   "metadata": {},
   "outputs": [
    {
     "data": {
      "text/plain": [
       "(75, 46)"
      ]
     },
     "execution_count": 67,
     "metadata": {},
     "output_type": "execute_result"
    }
   ],
   "source": [
    "df.shape"
   ]
  },
  {
   "cell_type": "code",
   "execution_count": 66,
   "metadata": {},
   "outputs": [],
   "source": [
    "n_comp = 46\n",
    "\n",
    "_pca = PCA(n_components=n_comp)\n",
    "\n",
    "df_pca = _pca.fit_transform(df)"
   ]
  },
  {
   "cell_type": "code",
   "execution_count": 75,
   "metadata": {},
   "outputs": [
    {
     "name": "stdout",
     "output_type": "stream",
     "text": [
      "0 - Proporção acumulada: 0.0\n",
      "1 - Proporção acumulada: 0.374800775256269\n",
      "2 - Proporção acumulada: 0.49897267073968743\n",
      "3 - Proporção acumulada: 0.5963741191141474\n",
      "4 - Proporção acumulada: 0.6665127814471047\n",
      "5 - Proporção acumulada: 0.7186417708055911\n",
      "6 - Proporção acumulada: 0.7655875727116785\n",
      "7 - Proporção acumulada: 0.8059608725399424\n",
      "8 - Proporção acumulada: 0.8382876262900449\n",
      "9 - Proporção acumulada: 0.8638157684686182\n",
      "10 - Proporção acumulada: 0.8846120370102387\n",
      "11 - Proporção acumulada: 0.9013648453049409\n",
      "12 - Proporção acumulada: 0.9146291201616414\n",
      "13 - Proporção acumulada: 0.9257377700311812\n",
      "14 - Proporção acumulada: 0.9362527653305226\n",
      "15 - Proporção acumulada: 0.944403100552049\n",
      "16 - Proporção acumulada: 0.9520714275519663\n",
      "17 - Proporção acumulada: 0.9592663529556081\n",
      "18 - Proporção acumulada: 0.9661293619524514\n",
      "19 - Proporção acumulada: 0.9713797302096436\n",
      "20 - Proporção acumulada: 0.9763037140186651\n",
      "21 - Proporção acumulada: 0.9800885788509345\n",
      "22 - Proporção acumulada: 0.982866673704308\n",
      "23 - Proporção acumulada: 0.9853798248138661\n",
      "24 - Proporção acumulada: 0.9874752681312249\n",
      "25 - Proporção acumulada: 0.9894872298482988\n",
      "26 - Proporção acumulada: 0.9910095001390762\n",
      "27 - Proporção acumulada: 0.9924700340363736\n",
      "28 - Proporção acumulada: 0.9936338136087869\n",
      "29 - Proporção acumulada: 0.9947106450745467\n",
      "30 - Proporção acumulada: 0.9956325149316789\n",
      "31 - Proporção acumulada: 0.9964973744522457\n",
      "32 - Proporção acumulada: 0.9971893132972393\n",
      "33 - Proporção acumulada: 0.9977652590432664\n",
      "34 - Proporção acumulada: 0.9982243895599415\n",
      "35 - Proporção acumulada: 0.9985879900821736\n",
      "36 - Proporção acumulada: 0.9989165270992814\n",
      "37 - Proporção acumulada: 0.9991727737424124\n",
      "38 - Proporção acumulada: 0.9993930410402725\n",
      "39 - Proporção acumulada: 0.9995603309022658\n",
      "40 - Proporção acumulada: 0.999711468904577\n",
      "41 - Proporção acumulada: 0.9998142989185004\n",
      "42 - Proporção acumulada: 0.9999131665910856\n",
      "43 - Proporção acumulada: 0.9999657911879647\n",
      "44 - Proporção acumulada: 0.9999933901102309\n",
      "45 - Proporção acumulada: 0.9999999999999998\n"
     ]
    }
   ],
   "source": [
    "for i in range(df_pca.shape[1]):\n",
    "    print('{} - Proporção acumulada: {}'.format(i, np.sum(_pca.explained_variance_ratio_[:i])))"
   ]
  },
  {
   "cell_type": "code",
   "execution_count": 74,
   "metadata": {},
   "outputs": [
    {
     "data": {
      "image/png": "[encoded data removed]",
      "text/plain": [
       "<Figure size 1728x864 with 1 Axes>"
      ]
     },
     "metadata": {
      "needs_background": "light"
     },
     "output_type": "display_data"
    }
   ],
   "source": [
    "pca_ratio_plot(_pca.explained_variance_ratio_, n_comp, True)"
   ]
  },
  {
   "cell_type": "markdown",
   "metadata": {},
   "source": [
    "**Análise:**\n",
    "- Observando o gráfico acima, pode-se observar 2 pontos que podem ser considerados o joelhos para a escolha das PCA's. O primeiro deles está localizado no índice 14 e o segundo no 18."
   ]
  },
  {
   "cell_type": "code",
   "execution_count": 78,
   "metadata": {},
   "outputs": [
    {
     "data": {
      "image/png": "[encoded data removed]",
      "text/plain": [
       "<Figure size 1728x864 with 1 Axes>"
      ]
     },
     "metadata": {
      "needs_background": "light"
     },
     "output_type": "display_data"
    }
   ],
   "source": [
    "pca_ratio_plot(_pca.explained_variance_ratio_[: 20], n_comp, True)"
   ]
  },
  {
   "cell_type": "markdown",
   "metadata": {},
   "source": [
    "**Análise:**\n",
    "- Observando mais a fundo o gráfico acima, selecionaremos o 18 componentes principais, onde todas elas juntas representam 96% da variância dos dados."
   ]
  },
  {
   "cell_type": "code",
   "execution_count": 79,
   "metadata": {},
   "outputs": [],
   "source": [
    "df_reduced = df_pca[:, :18]"
   ]
  },
  {
   "cell_type": "code",
   "execution_count": 81,
   "metadata": {},
   "outputs": [
    {
     "data": {
      "text/plain": [
       "(75, 18)"
      ]
     },
     "execution_count": 81,
     "metadata": {},
     "output_type": "execute_result"
    }
   ],
   "source": [
    "df_reduced.shape"
   ]
  },
  {
   "cell_type": "markdown",
   "metadata": {},
   "source": [
    "## <a id=\"33\">3.3. Salvando o dataframe</a>"
   ]
  },
  {
   "cell_type": "code",
   "execution_count": 101,
   "metadata": {},
   "outputs": [
    {
     "name": "stdout",
     "output_type": "stream",
     "text": [
      "Objeto 'df_2019-09-21_23-38-11' salvo com sucesso\n",
      "Objeto 'df_pca_2019-09-21_23-38-11' salvo com sucesso\n",
      "Objeto 'df_reduzido_2019-09-21_23-38-11' salvo com sucesso\n"
     ]
    }
   ],
   "source": [
    "save(df, 'df')\n",
    "save(df_pca, 'df_pca')\n",
    "save(df_reduced, 'df_reduzido')"
   ]
  },
  {
   "cell_type": "markdown",
   "metadata": {},
   "source": [
    "# <a id=\"4\">4. Modelagem</a>"
   ]
  },
  {
   "cell_type": "markdown",
   "metadata": {},
   "source": [
    "## <a id=\"41\">4.1. K-means</a>"
   ]
  },
  {
   "cell_type": "code",
   "execution_count": 115,
   "metadata": {},
   "outputs": [
    {
     "data": {
      "text/plain": [
       "Text(0.5, 1.0, 'Soma da distância ao centróide x Valor de K')"
      ]
     },
     "execution_count": 115,
     "metadata": {},
     "output_type": "execute_result"
    },
    {
     "data": {
      "image/png": "[encoded data removed]",
      "text/plain": [
       "<Figure size 1728x864 with 1 Axes>"
      ]
     },
     "metadata": {
      "needs_background": "light"
     },
     "output_type": "display_data"
    }
   ],
   "source": [
    "# Determinando um range de K\n",
    "k_range = range(1, 15)\n",
    "\n",
    "# Aplicando o modelo K-Means a cada valor de K\n",
    "k_means_var = [KMeans(n_clusters = k).fit(df_reduced) for k in k_range]\n",
    "\n",
    "# Ajustando o centróide do cluster para cada modelo\n",
    "centroids = [X.cluster_centers_ for X in k_means_var]\n",
    "\n",
    "# Calculando a distância euclidiana de cada ponto de dado para o centróide\n",
    "k_euclid = [cdist(df_reduced, cent, 'euclidean') for cent in centroids]\n",
    "\n",
    "dist = [np.min(ke, axis=1) for ke in k_euclid]\n",
    "\n",
    "# Soma dos quadrados das distâncias dentro do cluster\n",
    "wcss = [sum(d**2) for d in dist]\n",
    "\n",
    "# Soma total dos quadrados\n",
    "tss = sum(pdist(df_reduced)**2) / df_reduced.shape[0]\n",
    "\n",
    "# Soma dos quadrados entre clusters\n",
    "bss = tss - wcss\n",
    "\n",
    "# Curva de Elbow\n",
    "fig = plt.figure(figsize=(24, 12))\n",
    "\n",
    "ax = fig.add_subplot(111)\n",
    "\n",
    "ax.plot(k_range, bss / tss * 100, 'b*-')\n",
    "\n",
    "ax.set_ylim((0, 100))\n",
    "\n",
    "plt.grid(True)\n",
    "\n",
    "plt.xlabel('Número de Clusters')\n",
    "plt.ylabel('Percentual de Variância Explicada')\n",
    "\n",
    "plt.title('Soma da distância ao centróide x Valor de K')"
   ]
  },
  {
   "cell_type": "markdown",
   "metadata": {},
   "source": [
    "**Análise:**\n",
    "- Observando o gráfico acima, tudo indica que o número ideal de clusters são apenas 2."
   ]
  },
  {
   "cell_type": "code",
   "execution_count": 124,
   "metadata": {},
   "outputs": [
    {
     "name": "stdout",
     "output_type": "stream",
     "text": [
      "Silhouette: 0.30\n"
     ]
    }
   ],
   "source": [
    "n_clusters = 2\n",
    "\n",
    "cluster_1 = KMeans(n_clusters=n_clusters)\n",
    "cluster_1.fit(df_reduced)\n",
    "\n",
    "labels = cluster_1.labels_\n",
    "\n",
    "print('Silhouette: %.2f' % silhouette_score(df_reduced, labels, metric = 'euclidean'))"
   ]
  },
  {
   "cell_type": "code",
   "execution_count": 126,
   "metadata": {},
   "outputs": [
    {
     "data": {
      "image/png": "[encoded data removed]",
      "text/plain": [
       "<Figure size 1728x864 with 1 Axes>"
      ]
     },
     "metadata": {
      "needs_background": "light"
     },
     "output_type": "display_data"
    }
   ],
   "source": [
    "plt.figure(figsize=(24, 12))\n",
    "\n",
    "for i in range(0, df_reduced.shape[0]):\n",
    "    if cluster_1.labels_[i] == 1:\n",
    "        c1 = plt.scatter(df_reduced[i, 0], df_reduced[i, 1], c='r', marker='*')\n",
    "    elif cluster_1.labels_[i] == 0:\n",
    "        c2 = plt.scatter(df_reduced[i, 0], df_reduced[i, 1], c='g', marker='o')\n",
    "\n",
    "        plt.legend([c1, c2], ['Cluster 0', 'Cluster 1'])\n",
    "        plt.title('Clusters K-means em %d clusters' % n_clusters)\n",
    "\n",
    "plt.show()"
   ]
  },
  {
   "cell_type": "markdown",
   "metadata": {},
   "source": [
    "**Análises:**\n",
    "- Observando o gráfico acima, um dos primeiros pontos que pode-se analisar é o fato de cada ponto estar disperso um dos outros. Com isso os clusters não ficam tão bem aglumerados, e sim mais espalhados.\n",
    "- Com essa dispersão, ao avaliar-lo pode-se obter um score baixo, devido aos diversos pontos que encontram-se muito perto dos pontos do outro cluster."
   ]
  },
  {
   "cell_type": "markdown",
   "metadata": {},
   "source": [
    "# <a id=\"5\">5. Avaliação</a>"
   ]
  },
  {
   "cell_type": "code",
   "execution_count": null,
   "metadata": {},
   "outputs": [],
   "source": [
    "import matplotlib.cm as cm\n",
    "\n",
    "X = df_reduced\n",
    "\n",
    "range_n_clusters = [2, 3, 4, 5, 6, 7]\n",
    "\n",
    "for n_clusters in range_n_clusters:\n",
    "    fig, (ax1, ax2) = plt.subplots(1, 2)\n",
    "    fig.set_size_inches(18, 7)\n",
    "    \n",
    "    ax1.set_xlim([-0.1, 1])\n",
    "    \n",
    "    ax1.set_ylim([0, len(X) + (n_clusters + 1) * 10])\n",
    "\n",
    "    clusterer = KMeans(n_clusters=n_clusters, random_state=10)\n",
    "    cluster_labels = clusterer.fit_predict(X)\n",
    "    \n",
    "    silhouette_avg = silhouette_score(X, cluster_labels)\n",
    "    print(\"For n_clusters =\", n_clusters,\n",
    "          \"The average silhouette_score is :\", silhouette_avg)\n",
    "    \n",
    "    sample_silhouette_values = silhouette_samples(X, cluster_labels)\n",
    "    \n",
    "    y_lower = 10\n",
    "\n",
    "    for i in range(n_clusters):\n",
    "        ith_cluster_silhouette_values = sample_silhouette_values[cluster_labels == i]\n",
    "\n",
    "        ith_cluster_silhouette_values.sort()\n",
    "\n",
    "        size_cluster_i = ith_cluster_silhouette_values.shape[0]\n",
    "        y_upper = y_lower + size_cluster_i\n",
    "\n",
    "        color = cm.nipy_spectral(float(i) / n_clusters)\n",
    "\n",
    "        ax1.fill_betweenx(np.arange(y_lower, y_upper),\n",
    "                              0, ith_cluster_silhouette_values,\n",
    "                              facecolor=color, edgecolor=color, alpha=0.7)\n",
    "        \n",
    "        ax1.text(-0.05, y_lower + 0.5 * size_cluster_i, str(i))\n",
    "        \n",
    "        y_lower = y_upper + 10\n",
    "        \n",
    "    ax1.set_title(\"The silhouette plot for the various clusters.\")\n",
    "    ax1.set_xlabel(\"The silhouette coefficient values\")\n",
    "    ax1.set_ylabel(\"Cluster label\")\n",
    "    \n",
    "    ax1.axvline(x=silhouette_avg, color=\"red\", linestyle=\"--\")\n",
    "    \n",
    "    ax1.set_yticks([])\n",
    "    ax1.set_xticks([-0.1, 0, 0.2, 0.4, 0.6, 0.8, 1])\n",
    "    \n",
    "    colors = cm.nipy_spectral(cluster_labels.astype(float) / n_clusters)\n",
    "    ax2.scatter(X[:, 0], X[:, 1], marker='.', s=30, lw=0, alpha=0.7,\n",
    "                c=colors, edgecolor='k')\n",
    "    \n",
    "    centers = clusterer.cluster_centers_\n",
    "    \n",
    "    ax2.scatter(centers[:, 0], centers[:, 1], marker='o',\n",
    "                c=\"white\", alpha=1, s=200, edgecolor='k')\n",
    "    \n",
    "    for i, c in enumerate(centers):\n",
    "        ax2.scatter(c[0], c[1], marker='$%d$' % i, alpha=1,\n",
    "                    s=50, edgecolor='k')\n",
    "        \n",
    "    ax2.set_title(\"The visualization of the clustered data.\")\n",
    "    ax2.set_xlabel(\"Feature space for the 1st feature\")\n",
    "    ax2.set_ylabel(\"Feature space for the 2nd feature\")\n",
    "\n",
    "    plt.suptitle((\"Silhouette analysis for KMeans clustering on sample data \"\n",
    "                  \"with n_clusters = %d\" % n_clusters),\n",
    "                 fontsize=14, fontweight='bold')"
   ]
  },
  {
   "cell_type": "markdown",
   "metadata": {},
   "source": [
    "**Análise:**\n",
    "- Assim como observado em outros gráficos, este nos indica que o melhor número de clusters que obtém uma melhor adesão em nosso modelo é o número 2.\n",
    "- O modelo com outros números de cluster não se adequam bem ao modelo, pois possuem valores negativos e também pouca quantidade de dados."
   ]
  },
  {
   "cell_type": "code",
   "execution_count": null,
   "metadata": {},
   "outputs": [],
   "source": []
  }
 ],
 "metadata": {
  "kernelspec": {
   "display_name": "Python 3",
   "language": "python",
   "name": "python3"
  },
  "language_info": {
   "codemirror_mode": {
    "name": "ipython",
    "version": 3
   },
   "file_extension": ".py",
   "mimetype": "text/x-python",
   "name": "python",
   "nbconvert_exporter": "python",
   "pygments_lexer": "ipython3",
   "version": "3.7.3"
  }
 },
 "nbformat": 4,
 "nbformat_minor": 2
}
